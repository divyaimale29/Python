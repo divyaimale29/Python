{
 "cells": [
  {
   "cell_type": "markdown",
   "id": "39f77367",
   "metadata": {},
   "source": [
    "# Basics of arithmetic operators"
   ]
  },
  {
   "cell_type": "code",
   "execution_count": 1,
   "id": "6bf6cd50",
   "metadata": {},
   "outputs": [
    {
     "data": {
      "text/plain": [
       "14"
      ]
     },
     "execution_count": 1,
     "metadata": {},
     "output_type": "execute_result"
    }
   ],
   "source": [
    "2 + 3 + 9"
   ]
  },
  {
   "cell_type": "code",
   "execution_count": 2,
   "id": "626bcfaa",
   "metadata": {},
   "outputs": [
    {
     "data": {
      "text/plain": [
       "15"
      ]
     },
     "execution_count": 2,
     "metadata": {},
     "output_type": "execute_result"
    }
   ],
   "source": [
    "89-74"
   ]
  },
  {
   "cell_type": "code",
   "execution_count": 3,
   "id": "f560413b",
   "metadata": {},
   "outputs": [
    {
     "data": {
      "text/plain": [
       "-2322.8900000000003"
      ]
     },
     "execution_count": 3,
     "metadata": {},
     "output_type": "execute_result"
    }
   ],
   "source": [
    "34.67 * -67"
   ]
  },
  {
   "cell_type": "code",
   "execution_count": 4,
   "id": "61b8232c",
   "metadata": {},
   "outputs": [
    {
     "data": {
      "text/plain": [
       "4.25"
      ]
     },
     "execution_count": 4,
     "metadata": {},
     "output_type": "execute_result"
    }
   ],
   "source": [
    "34 / 8"
   ]
  },
  {
   "cell_type": "code",
   "execution_count": 5,
   "id": "80c67d61",
   "metadata": {},
   "outputs": [
    {
     "data": {
      "text/plain": [
       "4"
      ]
     },
     "execution_count": 5,
     "metadata": {},
     "output_type": "execute_result"
    }
   ],
   "source": [
    "34 // 8"
   ]
  },
  {
   "cell_type": "code",
   "execution_count": 6,
   "id": "92129357",
   "metadata": {},
   "outputs": [
    {
     "data": {
      "text/plain": [
       "0"
      ]
     },
     "execution_count": 6,
     "metadata": {},
     "output_type": "execute_result"
    }
   ],
   "source": [
    "4 % 2"
   ]
  },
  {
   "cell_type": "code",
   "execution_count": 7,
   "id": "3af9370f",
   "metadata": {},
   "outputs": [
    {
     "data": {
      "text/plain": [
       "25"
      ]
     },
     "execution_count": 7,
     "metadata": {},
     "output_type": "execute_result"
    }
   ],
   "source": [
    "5 ** 2"
   ]
  },
  {
   "cell_type": "code",
   "execution_count": 8,
   "id": "ab1086c8",
   "metadata": {},
   "outputs": [
    {
     "data": {
      "text/plain": [
       "26.352941176470587"
      ]
     },
     "execution_count": 8,
     "metadata": {},
     "output_type": "execute_result"
    }
   ],
   "source": [
    "((2 + 5) / (34 * 2) * (4 ** 4))"
   ]
  },
  {
   "cell_type": "markdown",
   "id": "d5347ebc",
   "metadata": {},
   "source": [
    "# Solving multi-step problems using variables"
   ]
  },
  {
   "cell_type": "code",
   "execution_count": 9,
   "id": "0922695f",
   "metadata": {},
   "outputs": [],
   "source": [
    "cost_of_ice_bag = 1.25"
   ]
  },
  {
   "cell_type": "code",
   "execution_count": 10,
   "id": "1cbaf8e1",
   "metadata": {},
   "outputs": [],
   "source": [
    "profit_margin = .2"
   ]
  },
  {
   "cell_type": "code",
   "execution_count": 11,
   "id": "6288e360",
   "metadata": {},
   "outputs": [],
   "source": [
    "number_of_bags = 500"
   ]
  },
  {
   "cell_type": "code",
   "execution_count": 12,
   "id": "bc0eb4b7",
   "metadata": {},
   "outputs": [
    {
     "data": {
      "text/plain": [
       "0.2"
      ]
     },
     "execution_count": 12,
     "metadata": {},
     "output_type": "execute_result"
    }
   ],
   "source": [
    "profit_margin"
   ]
  },
  {
   "cell_type": "code",
   "execution_count": 13,
   "id": "033bdeb9",
   "metadata": {},
   "outputs": [],
   "source": [
    "profit_per_bag = cost_of_ice_bag * profit_margin"
   ]
  },
  {
   "cell_type": "code",
   "execution_count": 14,
   "id": "72b783d7",
   "metadata": {},
   "outputs": [
    {
     "data": {
      "text/plain": [
       "0.25"
      ]
     },
     "execution_count": 14,
     "metadata": {},
     "output_type": "execute_result"
    }
   ],
   "source": [
    "profit_per_bag"
   ]
  },
  {
   "cell_type": "code",
   "execution_count": 15,
   "id": "44b04aa0",
   "metadata": {},
   "outputs": [],
   "source": [
    "total_profit = number_of_bags * profit_per_bag"
   ]
  },
  {
   "cell_type": "code",
   "execution_count": 16,
   "id": "3766c8d3",
   "metadata": {},
   "outputs": [
    {
     "data": {
      "text/plain": [
       "125.0"
      ]
     },
     "execution_count": 16,
     "metadata": {},
     "output_type": "execute_result"
    }
   ],
   "source": [
    "total_profit"
   ]
  },
  {
   "cell_type": "code",
   "execution_count": 17,
   "id": "056d1cf8",
   "metadata": {},
   "outputs": [
    {
     "name": "stdout",
     "output_type": "stream",
     "text": [
      "The grocery store makes a total profit of $ 125.0\n"
     ]
    }
   ],
   "source": [
    "print(\"The grocery store makes a total profit of $\", total_profit)"
   ]
  },
  {
   "cell_type": "code",
   "execution_count": 18,
   "id": "d3b7dd1f",
   "metadata": {},
   "outputs": [
    {
     "name": "stdout",
     "output_type": "stream",
     "text": [
      "The grocery store makes a total profit of $ 125.0\n"
     ]
    }
   ],
   "source": [
    "#Store input data in variables\n",
    "cost_of_ice_bag = 1.25\n",
    "profit_margin = .2\n",
    "number_of_bags = 500\n",
    "\n",
    "#Perform the required calculations\n",
    "profit_per_bag = cost_of_ice_bag * profit_margin\n",
    "total_profit = number_of_bags * profit_per_bag\n",
    "\n",
    "#Display the result\n",
    "print(\"The grocery store makes a total profit of $\", total_profit)"
   ]
  },
  {
   "cell_type": "markdown",
   "id": "4b01b88c",
   "metadata": {},
   "source": [
    "# Evaluating conditions using python"
   ]
  },
  {
   "cell_type": "code",
   "execution_count": 23,
   "id": "97860005",
   "metadata": {},
   "outputs": [],
   "source": [
    "my_favourite_number = 2\n",
    "my_least_favourite_number = 5\n",
    "a_neutral_number = 8"
   ]
  },
  {
   "cell_type": "code",
   "execution_count": 20,
   "id": "c633c0d4",
   "metadata": {},
   "outputs": [
    {
     "data": {
      "text/plain": [
       "True"
      ]
     },
     "execution_count": 20,
     "metadata": {},
     "output_type": "execute_result"
    }
   ],
   "source": [
    "#Equality check - True\n",
    "my_favourite_number == 2"
   ]
  },
  {
   "cell_type": "code",
   "execution_count": 21,
   "id": "f136fdb0",
   "metadata": {},
   "outputs": [
    {
     "data": {
      "text/plain": [
       "False"
      ]
     },
     "execution_count": 21,
     "metadata": {},
     "output_type": "execute_result"
    }
   ],
   "source": [
    "#Equality check - False\n",
    "my_favourite_number == my_least_favourite_number"
   ]
  },
  {
   "cell_type": "code",
   "execution_count": 24,
   "id": "2af349a6",
   "metadata": {},
   "outputs": [
    {
     "data": {
      "text/plain": [
       "True"
      ]
     },
     "execution_count": 24,
     "metadata": {},
     "output_type": "execute_result"
    }
   ],
   "source": [
    "#Not equal check - True\n",
    "my_favourite_number != a_neutral_number"
   ]
  },
  {
   "cell_type": "code",
   "execution_count": 25,
   "id": "25e48b5d",
   "metadata": {},
   "outputs": [
    {
     "data": {
      "text/plain": [
       "False"
      ]
     },
     "execution_count": 25,
     "metadata": {},
     "output_type": "execute_result"
    }
   ],
   "source": [
    "#Not equal check - False\n",
    "a_neutral_number != 8"
   ]
  },
  {
   "cell_type": "code",
   "execution_count": 26,
   "id": "fc661609",
   "metadata": {},
   "outputs": [
    {
     "data": {
      "text/plain": [
       "True"
      ]
     },
     "execution_count": 26,
     "metadata": {},
     "output_type": "execute_result"
    }
   ],
   "source": [
    "#Greater than check - True\n",
    "my_least_favourite_number > my_favourite_number"
   ]
  },
  {
   "cell_type": "code",
   "execution_count": 27,
   "id": "fe0fd4ea",
   "metadata": {},
   "outputs": [
    {
     "data": {
      "text/plain": [
       "False"
      ]
     },
     "execution_count": 27,
     "metadata": {},
     "output_type": "execute_result"
    }
   ],
   "source": [
    "#Greater than check - False\n",
    "my_favourite_number > a_neutral_number"
   ]
  },
  {
   "cell_type": "code",
   "execution_count": 28,
   "id": "49491842",
   "metadata": {},
   "outputs": [
    {
     "data": {
      "text/plain": [
       "True"
      ]
     },
     "execution_count": 28,
     "metadata": {},
     "output_type": "execute_result"
    }
   ],
   "source": [
    "#Less than check - true\n",
    "my_favourite_number < my_least_favourite_number"
   ]
  },
  {
   "cell_type": "code",
   "execution_count": 29,
   "id": "f634624b",
   "metadata": {},
   "outputs": [
    {
     "data": {
      "text/plain": [
       "False"
      ]
     },
     "execution_count": 29,
     "metadata": {},
     "output_type": "execute_result"
    }
   ],
   "source": [
    "#Less than check -False\n",
    "a_neutral_number < my_least_favourite_number"
   ]
  },
  {
   "cell_type": "code",
   "execution_count": 30,
   "id": "21fa8a81",
   "metadata": {},
   "outputs": [
    {
     "data": {
      "text/plain": [
       "True"
      ]
     },
     "execution_count": 30,
     "metadata": {},
     "output_type": "execute_result"
    }
   ],
   "source": [
    "#Greater than or equal check - True\n",
    "my_least_favourite_number >= my_favourite_number"
   ]
  },
  {
   "cell_type": "code",
   "execution_count": 31,
   "id": "e88cbc03",
   "metadata": {},
   "outputs": [
    {
     "data": {
      "text/plain": [
       "False"
      ]
     },
     "execution_count": 31,
     "metadata": {},
     "output_type": "execute_result"
    }
   ],
   "source": [
    "#Greater than or equal check - False\n",
    "my_favourite_number >= a_neutral_number"
   ]
  },
  {
   "cell_type": "code",
   "execution_count": 32,
   "id": "1727dffb",
   "metadata": {},
   "outputs": [
    {
     "data": {
      "text/plain": [
       "True"
      ]
     },
     "execution_count": 32,
     "metadata": {},
     "output_type": "execute_result"
    }
   ],
   "source": [
    "#Less than or equal check - True\n",
    "my_least_favourite_number <= a_neutral_number"
   ]
  },
  {
   "cell_type": "code",
   "execution_count": 33,
   "id": "40a721a1",
   "metadata": {},
   "outputs": [
    {
     "data": {
      "text/plain": [
       "False"
      ]
     },
     "execution_count": 33,
     "metadata": {},
     "output_type": "execute_result"
    }
   ],
   "source": [
    "#Less than or equal check - False\n",
    "a_neutral_number <= my_favourite_number"
   ]
  },
  {
   "cell_type": "code",
   "execution_count": 34,
   "id": "0ffdf8a6",
   "metadata": {},
   "outputs": [
    {
     "name": "stdout",
     "output_type": "stream",
     "text": [
      "Is the ice bag expensive False\n"
     ]
    }
   ],
   "source": [
    "cost_of_ice_bag = 1.25\n",
    "is_ice_bag_expensive = cost_of_ice_bag >= 10\n",
    "print(\"Is the ice bag expensive\", is_ice_bag_expensive)"
   ]
  },
  {
   "cell_type": "markdown",
   "id": "13e68b75",
   "metadata": {},
   "source": [
    "# Combining conditions with logical operators"
   ]
  },
  {
   "cell_type": "code",
   "execution_count": 35,
   "id": "8a9c7fcd",
   "metadata": {},
   "outputs": [
    {
     "data": {
      "text/plain": [
       "True"
      ]
     },
     "execution_count": 35,
     "metadata": {},
     "output_type": "execute_result"
    }
   ],
   "source": [
    "my_favourite_number > 0 and my_favourite_number <= 2"
   ]
  },
  {
   "cell_type": "code",
   "execution_count": 37,
   "id": "e259ef29",
   "metadata": {},
   "outputs": [
    {
     "data": {
      "text/plain": [
       "False"
      ]
     },
     "execution_count": 37,
     "metadata": {},
     "output_type": "execute_result"
    }
   ],
   "source": [
    "my_favourite_number < 0 and my_favourite_number <= 3"
   ]
  },
  {
   "cell_type": "code",
   "execution_count": 38,
   "id": "240dc614",
   "metadata": {},
   "outputs": [
    {
     "data": {
      "text/plain": [
       "False"
      ]
     },
     "execution_count": 38,
     "metadata": {},
     "output_type": "execute_result"
    }
   ],
   "source": [
    "my_favourite_number > 0 and my_favourite_number >= 3"
   ]
  },
  {
   "cell_type": "code",
   "execution_count": 39,
   "id": "ab0cd322",
   "metadata": {},
   "outputs": [
    {
     "data": {
      "text/plain": [
       "False"
      ]
     },
     "execution_count": 39,
     "metadata": {},
     "output_type": "execute_result"
    }
   ],
   "source": [
    "True and False"
   ]
  },
  {
   "cell_type": "code",
   "execution_count": 40,
   "id": "dcf23405",
   "metadata": {},
   "outputs": [
    {
     "data": {
      "text/plain": [
       "True"
      ]
     },
     "execution_count": 40,
     "metadata": {},
     "output_type": "execute_result"
    }
   ],
   "source": [
    "True and True"
   ]
  },
  {
   "cell_type": "code",
   "execution_count": 41,
   "id": "7799f447",
   "metadata": {},
   "outputs": [
    {
     "data": {
      "text/plain": [
       "True"
      ]
     },
     "execution_count": 41,
     "metadata": {},
     "output_type": "execute_result"
    }
   ],
   "source": [
    "a_neutral_number == 8 or my_favourite_number < 0"
   ]
  },
  {
   "cell_type": "code",
   "execution_count": 42,
   "id": "9f340588",
   "metadata": {},
   "outputs": [
    {
     "data": {
      "text/plain": [
       "False"
      ]
     },
     "execution_count": 42,
     "metadata": {},
     "output_type": "execute_result"
    }
   ],
   "source": [
    "a_neutral_number != 8 or my_favourite_number < 0"
   ]
  },
  {
   "cell_type": "code",
   "execution_count": 43,
   "id": "8576b4f1",
   "metadata": {},
   "outputs": [
    {
     "data": {
      "text/plain": [
       "True"
      ]
     },
     "execution_count": 43,
     "metadata": {},
     "output_type": "execute_result"
    }
   ],
   "source": [
    "my_favourite_number < 0 or True"
   ]
  },
  {
   "cell_type": "code",
   "execution_count": 44,
   "id": "c8f37c5f",
   "metadata": {},
   "outputs": [
    {
     "data": {
      "text/plain": [
       "False"
      ]
     },
     "execution_count": 44,
     "metadata": {},
     "output_type": "execute_result"
    }
   ],
   "source": [
    "False or False"
   ]
  },
  {
   "cell_type": "code",
   "execution_count": 45,
   "id": "d6674ba7",
   "metadata": {},
   "outputs": [
    {
     "data": {
      "text/plain": [
       "False"
      ]
     },
     "execution_count": 45,
     "metadata": {},
     "output_type": "execute_result"
    }
   ],
   "source": [
    "not a_neutral_number == 8"
   ]
  },
  {
   "cell_type": "code",
   "execution_count": 47,
   "id": "ebaa3b17",
   "metadata": {},
   "outputs": [
    {
     "data": {
      "text/plain": [
       "True"
      ]
     },
     "execution_count": 47,
     "metadata": {},
     "output_type": "execute_result"
    }
   ],
   "source": [
    "not my_favourite_number < 0"
   ]
  },
  {
   "cell_type": "code",
   "execution_count": 2,
   "id": "c3fa14c0",
   "metadata": {},
   "outputs": [
    {
     "data": {
      "text/plain": [
       "False"
      ]
     },
     "execution_count": 2,
     "metadata": {},
     "output_type": "execute_result"
    }
   ],
   "source": [
    "not True"
   ]
  }
 ],
 "metadata": {
  "kernelspec": {
   "display_name": "Python 3",
   "language": "python",
   "name": "python3"
  },
  "language_info": {
   "codemirror_mode": {
    "name": "ipython",
    "version": 3
   },
   "file_extension": ".py",
   "mimetype": "text/x-python",
   "name": "python",
   "nbconvert_exporter": "python",
   "pygments_lexer": "ipython3",
   "version": "3.9.5"
  }
 },
 "nbformat": 4,
 "nbformat_minor": 5
}
